{
  "nbformat": 4,
  "nbformat_minor": 0,
  "metadata": {
    "colab": {
      "provenance": [],
      "include_colab_link": true
    },
    "kernelspec": {
      "name": "python3",
      "display_name": "Python 3"
    },
    "language_info": {
      "name": "python"
    }
  },
  "cells": [
    {
      "cell_type": "markdown",
      "metadata": {
        "id": "view-in-github",
        "colab_type": "text"
      },
      "source": [
        "<a href=\"https://colab.research.google.com/github/Nope916/Programming-language/blob/main/%E8%81%8A%E5%A4%A9%E6%A9%9F%E5%99%A8%E4%BA%BA.ipynb\" target=\"_parent\"><img src=\"https://colab.research.google.com/assets/colab-badge.svg\" alt=\"Open In Colab\"/></a>"
      ]
    },
    {
      "cell_type": "markdown",
      "source": [
        "#這個是學習資源連結\n",
        "取得API key在這邊：https://ai.google.dev/\n",
        "\n",
        "怎麼用Gemini：https://ai.google.dev/gemini-api/docs/quickstart?lang=python"
      ],
      "metadata": {
        "id": "FzAHtzePPM_a"
      }
    },
    {
      "cell_type": "code",
      "execution_count": 1,
      "metadata": {
        "id": "tioEPqr0O13e"
      },
      "outputs": [],
      "source": [
        "#保護並存放隱私資料（例如 API key或密碼）\n",
        "from google.colab import userdata\n",
        "apikey = userdata.get('Gimini')"
      ]
    },
    {
      "cell_type": "markdown",
      "source": [
        "#先來做測試\n",
        "我們叫Gemini寫一個故事給我們"
      ],
      "metadata": {
        "id": "8RQmoaCIR8q5"
      }
    },
    {
      "cell_type": "code",
      "source": [
        "#讓我們來測試gemini!先要求寫一個故事給我\n",
        "import google.generativeai as genai\n",
        "genai.configure(api_key = apikey)\n",
        "model = genai.GenerativeModel(\"gemini-1.5-flash\")\n",
        "#底下是給予寫故事指令的程式碼\n",
        "response = model.generate_content(\"Write a story about a magic backpack.\")\n",
        "print(response.text)"
      ],
      "metadata": {
        "colab": {
          "base_uri": "https://localhost:8080/",
          "height": 349
        },
        "id": "CbU4hRQO5NYJ",
        "outputId": "5da5b0db-f1c7-4406-9339-d2921bd3fbad"
      },
      "execution_count": 2,
      "outputs": [
        {
          "output_type": "stream",
          "name": "stdout",
          "text": [
            "Elara clutched the worn leather straps of the backpack, its aged brass buckle gleaming faintly in the dim light of the antique shop. It wasn’t particularly beautiful, more rugged than elegant, but something about it called to her.  The old shopkeeper, a woman with eyes like polished obsidian, simply said, \"It chooses its owner, child. Not the other way around.\"\n",
            "\n",
            "Elara, a struggling artist with more debts than canvases, hadn't planned on buying anything, but she couldn't leave the backpack behind.  She bought it for a pittance, a price far below its seeming worth.\n",
            "\n",
            "That night, unpacking her meager dinner, a half-eaten loaf of bread, Elara noticed something odd.  A small, perfectly ripe strawberry lay nestled among the crumbs at the bottom of the backpack.  She hadn't packed it.  She shrugged it off, attributing it to shop dust and a vivid imagination fueled by hunger.\n",
            "\n",
            "The next day, however, the backpack's magic truly revealed itself.  Elara was sketching in the park, struggling with a particularly difficult perspective, when she reached into her bag for a charcoal pencil.  Her hand encountered something else – a smooth, perfectly formed lump of charcoal, far superior to anything she'd ever used.  Then, as she continued to work, the backpack seemed to anticipate her needs.  A sharpener appeared, then a pristine rag, even a small bottle of fixative.\n",
            "\n",
            "Word spread amongst Elara's artist friends.  Whispers of her \"lucky backpack\" circulated.  Suddenly, she had all the materials she needed, always at the perfect moment.  Her art blossomed.  Her paintings became richer, more vibrant, imbued with a strange, almost mystical quality.\n",
            "\n",
            "But the backpack's generosity wasn't limited to art supplies.  When Elara was late for rent, a neatly folded hundred-dollar bill appeared inside.  When she was struggling with writer's block, a perfectly crafted sonnet emerged, written in elegant script on aged parchment.  It was as if the backpack was fulfilling her deepest needs, her unspoken desires.\n",
            "\n",
            "However, the backpack's magic had a price.  As Elara became increasingly reliant on its gifts, her own creativity began to wane.  She stopped sketching independently, relying solely on the supplies the backpack provided.  Her own ideas seemed dull, pale imitations compared to the effortless perfection the bag offered.  She found herself growing complacent, losing the very drive that had initially propelled her art.\n",
            "\n",
            "One day, she found a blank canvas in the backpack, alongside exquisite brushes and paints.  She stared at it, feeling a hollowness within her.  The backpack had given her everything, but at the cost of her own soul, her own creative fire.\n",
            "\n",
            "That night, Elara took the backpack to the same antique shop.  She placed it gently on the counter, the worn leather cool against the polished wood.  The old shopkeeper smiled, a knowing glint in her obsidian eyes.  \"It returns to its slumber,\" she said.  \"But remember, child, true art comes not from magic, but from the heart.\"  Elara walked away, her hands empty but her spirit lighter.  The backpack was gone, but her own creative spark, though dimmed, had been rekindled.  She knew, finally, that the greatest magic was her own.\n",
            "\n"
          ]
        }
      ]
    },
    {
      "cell_type": "markdown",
      "source": [
        "#翻譯機器人\n",
        "太好了成功了!但是這樣我們跟機器人還沒開始互動，他只是單方面給我們故事而已，所以我們來做第二個測試，做出一個可以跟我們互動的翻譯機器人吧!"
      ],
      "metadata": {
        "id": "kWtHx6L8SqRI"
      }
    },
    {
      "cell_type": "code",
      "source": [
        "def translate_text(text, target_language):\n",
        "    prompt = f\"Translate the following text to {target_language}: {text}\"\n",
        "    response = model.generate_content(prompt)\n",
        "    return response.text"
      ],
      "metadata": {
        "id": "pGWIk_Ng7E1g"
      },
      "execution_count": 3,
      "outputs": []
    },
    {
      "cell_type": "code",
      "source": [
        "#開始來做自己的機器人!\n",
        "\n",
        "def chat_bot():\n",
        "    print(\"歡迎使用翻譯機器人\")\n",
        "    print(\"輸入'exit'來退出，'change'來更改目標語言\")\n",
        "\n",
        "    target_language = input(\"輸入你想要翻譯成什麼語言 (e.g., French, Spanish, Chinese): \").strip()\n",
        "\n",
        "    while True:\n",
        "        user_input = input(\"輸入你要翻譯的文字: \")\n",
        "\n",
        "        if user_input.lower() == \"exit\":\n",
        "            print(\"再見！感謝使用翻譯機器人。\")\n",
        "            break\n",
        "        elif user_input.lower() == \"change\":\n",
        "            target_language = input(\"輸入你想要翻譯成什麼語言 (e.g., French, Spanish, Chinese): \").strip()\n",
        "\n",
        "            continue\n",
        "\n",
        "\n",
        "        # 執行翻譯\n",
        "        translation = translate_text(user_input, target_language)\n",
        "        print(f\"翻譯成 {target_language} 的結果: {translation}\")"
      ],
      "metadata": {
        "id": "sPMk9mkT6--P"
      },
      "execution_count": 4,
      "outputs": []
    },
    {
      "cell_type": "code",
      "source": [
        "#呼叫機器人!\n",
        "chat_bot()"
      ],
      "metadata": {
        "colab": {
          "base_uri": "https://localhost:8080/",
          "height": 213
        },
        "id": "PKMUacAi7JEU",
        "outputId": "c0f2105a-5083-4a83-fd6a-555fe7ae4517"
      },
      "execution_count": null,
      "outputs": [
        {
          "output_type": "stream",
          "name": "stdout",
          "text": [
            "歡迎使用翻譯機器人\n",
            "輸入'exit'來退出，'change'來更改目標語言\n",
            "輸入你想要翻譯成什麼語言 (e.g., French, Spanish, Chinese): Chinese\n",
            "輸入你要翻譯的文字: English\n",
            "翻譯成 Chinese 的結果: 英语\n",
            "\n",
            "輸入你要翻譯的文字: Elara clutched the worn leather straps of the backpack, its aged brass buckle gleaming faintly in the dim light of the antique shop. It wasn’t particularly beautiful, more rugged than elegant, but something about it called to her.  The old shopkeeper, a woman with eyes like polished obsidian, simply said, \"It chooses its owner, child. Not the other way around.\"  Elara, a struggling artist with more debts than canvases, hadn't planned on buying anything, but she couldn't leave the backpack behind.  She bought it for a pittance, a price far below its seeming worth.  That night, unpacking her meager dinner, a half-eaten loaf of bread, Elara noticed something odd.  A small, perfectly ripe strawberry lay nestled among the crumbs at the bottom of the backpack.  She hadn't packed it.  She shrugged it off, attributing it to shop dust and a vivid imagination fueled by hunger.  The next day, however, the backpack's magic truly revealed itself.  Elara was sketching in the park, struggling with a particularly difficult perspective, when she reached into her bag for a charcoal pencil.  Her hand encountered something else – a smooth, perfectly formed lump of charcoal, far superior to anything she'd ever used.  Then, as she continued to work, the backpack seemed to anticipate her needs.  A sharpener appeared, then a pristine rag, even a small bottle of fixative.  Word spread amongst Elara's artist friends.  Whispers of her \"lucky backpack\" circulated.  Suddenly, she had all the materials she needed, always at the perfect moment.  Her art blossomed.  Her paintings became richer, more vibrant, imbued with a strange, almost mystical quality.  But the backpack's generosity wasn't limited to art supplies.  When Elara was late for rent, a neatly folded hundred-dollar bill appeared inside.  When she was struggling with writer's block, a perfectly crafted sonnet emerged, written in elegant script on aged parchment.  It was as if the backpack was fulfilling her deepest needs, her unspoken desires.  However, the backpack's magic had a price.  As Elara became increasingly reliant on its gifts, her own creativity began to wane.  She stopped sketching independently, relying solely on the supplies the backpack provided.  Her own ideas seemed dull, pale imitations compared to the effortless perfection the bag offered.  She found herself growing complacent, losing the very drive that had initially propelled her art.  One day, she found a blank canvas in the backpack, alongside exquisite brushes and paints.  She stared at it, feeling a hollowness within her.  The backpack had given her everything, but at the cost of her own soul, her own creative fire.  That night, Elara took the backpack to the same antique shop.  She placed it gently on the counter, the worn leather cool against the polished wood.  The old shopkeeper smiled, a knowing glint in her obsidian eyes.  \"It returns to its slumber,\" she said.  \"But remember, child, true art comes not from magic, but from the heart.\"  Elara walked away, her hands empty but her spirit lighter.  The backpack was gone, but her own creative spark, though dimmed, had been rekindled.  She knew, finally, that the greatest magic was her own.\n",
            "翻譯成 Chinese 的結果: 埃拉拉紧紧抓住背包磨损的皮革带子，古旧的黄铜搭扣在古董店的昏暗灯光下微微闪耀。它并不特别漂亮，与其说是优雅不如说是粗犷，但某种东西吸引了她。那位老店主，一位眼睛像抛光黑曜石一样的女人，只是说：“它选择它的主人，孩子，不是反过来。”埃拉拉，一位负债累累的挣扎中的艺术家，比画布还多的是债务，她并没有打算买任何东西，但她无法留下那个背包。她以极低的价钱买下了它，远低于它看起来的价值。那天晚上，在打开她微薄的晚餐——半个吃剩的面包时，埃拉拉注意到一些奇怪的东西。一个小的，完全成熟的草莓躺在背包底部面包屑中。她并没有把它放进去。她耸了耸肩，把它归咎于商店的灰尘和饥饿引起的丰富想象力。然而，第二天，背包的魔力真正显现了。埃拉拉在公园里速写，正努力处理一个特别困难的透视问题，这时她伸手到包里去拿炭笔。她的手触到了别的东西——一块光滑、完美成型的炭块，远胜于她曾经用过的任何东西。然后，当她继续工作时，背包似乎预料到了她的需要。一把削笔刀出现了，然后是一块干净的抹布，甚至还有一小瓶定画液。消息在埃拉拉的艺术家朋友中传开了。“她幸运的背包”的流言蜚语四散传播。突然间，她拥有了她需要的所有材料，总是在完美的时刻。她的艺术蓬勃发展。她的画作变得更加丰富、更加鲜艳，充满了奇怪的、几乎是神秘的品质。但背包的慷慨并不局限于艺术用品。当埃拉拉房租到期时，一张整齐折叠的百元钞票出现在里面。当她创作遇到瓶颈时，一首完美创作的十四行诗出现了，用优雅的笔迹写在陈旧的羊皮纸上。仿佛背包正在满足她最深的需求，她未说出口的愿望。然而，背包的魔力是有代价的。随着埃拉拉越来越依赖它的馈赠，她自己的创造力开始减弱。她停止了独立速写，完全依赖背包提供的用品。她自己的想法显得乏味，与背包提供的毫不费力的完美相比，显得苍白无力。她发现自己变得自满，失去了最初推动她艺术发展的动力。有一天，她在背包里发现了一块空白的画布，以及精致的画笔和颜料。她盯着它看，感觉内心空虚。背包给了她一切，但代价是她自己的灵魂，她自己的创造力之火。那天晚上，埃拉拉把背包带回了同一家古董店。她轻轻地把它放在柜台上，磨损的皮革在抛光的木头上感觉凉凉的。老店主笑了，她黑曜石般眼睛里闪烁着意味深长的光芒。“它回到沉睡中了，”她说，“但记住，孩子，真正的艺术不是来自魔法，而是来自内心。”埃拉拉离开了，双手空空，但精神却轻松了。背包不见了，但她自己的创造力火花，虽然黯淡了，却重新被点燃了。她最终明白了，最大的魔法是她自己。\n",
            "\n"
          ]
        }
      ]
    },
    {
      "cell_type": "markdown",
      "source": [
        "# 我可以做其他的機器人嗎?\n",
        "我們先來用輔導老師機器人試試看吧!這樣即便心情很不好也會有人陪我們聊天"
      ],
      "metadata": {
        "id": "yFzOt5YUDufk"
      }
    },
    {
      "cell_type": "code",
      "source": [
        "\n",
        "\n",
        "# 輔導老師聊天機器人\n",
        "def counseling_chatbot():\n",
        "    if model is None:\n",
        "        print(\"無法啟動聊天機器人，因為模型尚未初始化。請檢查 API 金鑰或模型設定。\")\n",
        "        return\n",
        "\n",
        "    print(\"歡迎來到輔導老師聊天機器人！\")\n",
        "    print(\"輸入'exit'結束對話，或輸入'change'設定新的場景\")\n",
        "\n",
        "    # 設定初始場景\n",
        "    current_scene = \"你是一位親切且專業的輔導老師，接著學生會問你一些難過的問題，請用一句話來與學生慢慢溝通\"\n",
        "\n",
        "    while True:\n",
        "        user_input = input(\"學生: \").strip()\n",
        "\n",
        "        if user_input.lower() == \"exit\":\n",
        "            print(\"輔導老師: 很高興能幫助到你，希望一切順利！再見！\")\n",
        "            break\n",
        "        elif user_input.lower() == \"change\":\n",
        "            current_scene = \"你是一位親切且專業的輔導老師，接著學生會問你一些難過的問題，請用一句話來與學生慢慢溝通\"\n",
        "            print(\"場景已更新！你可以開始輸入問題了。\")\n",
        "            continue\n",
        "\n",
        "            continue\n",
        "\n",
        "        # 設定 prompt，結合場景與用戶輸入\n",
        "        prompt = f\"{current_scene} 學生說: {user_input} 輔導老師應如何回應？\"\n",
        "\n",
        "        # 使用生成模型\n",
        "        try:\n",
        "            response = model.generate_content(prompt)\n",
        "            print(f\"輔導老師: {response.text}\")\n",
        "        except Exception as e:\n",
        "            print(f\"抱歉，目前無法生成回應。錯誤: {e}\")\n",
        "\n",
        "# 啟動聊天機器人\n",
        "counseling_chatbot()"
      ],
      "metadata": {
        "id": "2zQyIYUrDz-g"
      },
      "execution_count": null,
      "outputs": []
    },
    {
      "cell_type": "code",
      "source": [],
      "metadata": {
        "id": "TBsDJ4kSshDk"
      },
      "execution_count": null,
      "outputs": []
    }
  ]
}